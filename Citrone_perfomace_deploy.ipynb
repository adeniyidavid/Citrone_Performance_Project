{
 "cells": [
  {
   "cell_type": "markdown",
   "id": "4823a41f-8769-4869-866f-13852c48e38c",
   "metadata": {},
   "source": [
    "## Citrone performance Project\n",
    "\n",
    "### Introduction\n",
    "This project trains a machine learning model that will predict if a student will graduate / move from the beginner class to the intermediate class or not from the Stutern learning management platform (Citrone)\n",
    "\n",
    "The columns in the dataset include:\n",
    "\n",
    " - S/N : Serial Number\n",
    " - Name : Names of Student\n",
    " - Email: Student's email address\n",
    " - Address: Student's Address during Application\n",
    " - Lesson Summary: Date column\t\n",
    " - Quiz Summary\n",
    " - Assignment Summary\tGrade Point Average\tIntermediate class Eligibility\n",
    "\n",
    "Due to the limited data point available for the initial training of the model, more data were generated random online from this website, the data were generated to reflect real world stutern student's data.\n",
    "Downloaded dummy data from [https://www.mockaroo.com/] to add to the existing data, so as to make the machine learning model perform very well"
   ]
  },
  {
   "cell_type": "code",
   "execution_count": 1,
   "id": "e7928598-2d9a-4c61-8eae-00f486cbdc93",
   "metadata": {},
   "outputs": [],
   "source": [
    "# import neccessary libraries\n",
    "import pandas as pd\n",
    "import numpy as np\n",
    "import matplotlib.pyplot as plt\n",
    "import seaborn as sns\n",
    "plt.style.use(style=\"ggplot\")"
   ]
  },
  {
   "cell_type": "code",
   "execution_count": 5,
   "id": "ad658d96-4180-4193-922c-ca6aa51b973e",
   "metadata": {},
   "outputs": [
    {
     "data": {
      "text/html": [
       "<div>\n",
       "<style scoped>\n",
       "    .dataframe tbody tr th:only-of-type {\n",
       "        vertical-align: middle;\n",
       "    }\n",
       "\n",
       "    .dataframe tbody tr th {\n",
       "        vertical-align: top;\n",
       "    }\n",
       "\n",
       "    .dataframe thead th {\n",
       "        text-align: right;\n",
       "    }\n",
       "</style>\n",
       "<table border=\"1\" class=\"dataframe\">\n",
       "  <thead>\n",
       "    <tr style=\"text-align: right;\">\n",
       "      <th></th>\n",
       "      <th>S/N</th>\n",
       "      <th>Name</th>\n",
       "      <th>Email Address</th>\n",
       "      <th>Lesson Summary</th>\n",
       "      <th>Quiz Summary</th>\n",
       "      <th>Assignment Summary</th>\n",
       "      <th>Grade Point Average</th>\n",
       "      <th>Intermediate class Eligibility</th>\n",
       "    </tr>\n",
       "  </thead>\n",
       "  <tbody>\n",
       "    <tr>\n",
       "      <th>0</th>\n",
       "      <td>1</td>\n",
       "      <td>id_1</td>\n",
       "      <td>NaN</td>\n",
       "      <td>0/5</td>\n",
       "      <td>NaN</td>\n",
       "      <td>0</td>\n",
       "      <td>0.0</td>\n",
       "      <td>No</td>\n",
       "    </tr>\n",
       "    <tr>\n",
       "      <th>1</th>\n",
       "      <td>2</td>\n",
       "      <td>id_2</td>\n",
       "      <td>NaN</td>\n",
       "      <td>2023-05-05 00:00:00</td>\n",
       "      <td>NaN</td>\n",
       "      <td>70</td>\n",
       "      <td>56.0</td>\n",
       "      <td>Yes</td>\n",
       "    </tr>\n",
       "    <tr>\n",
       "      <th>2</th>\n",
       "      <td>3</td>\n",
       "      <td>id_3</td>\n",
       "      <td>NaN</td>\n",
       "      <td>2023-02-05 00:00:00</td>\n",
       "      <td>NaN</td>\n",
       "      <td>80</td>\n",
       "      <td>64.0</td>\n",
       "      <td>Yes</td>\n",
       "    </tr>\n",
       "    <tr>\n",
       "      <th>3</th>\n",
       "      <td>4</td>\n",
       "      <td>id_4</td>\n",
       "      <td>NaN</td>\n",
       "      <td>2023-05-05 00:00:00</td>\n",
       "      <td>NaN</td>\n",
       "      <td>100</td>\n",
       "      <td>80.0</td>\n",
       "      <td>Yes</td>\n",
       "    </tr>\n",
       "    <tr>\n",
       "      <th>4</th>\n",
       "      <td>5</td>\n",
       "      <td>id_5</td>\n",
       "      <td>NaN</td>\n",
       "      <td>2023-06-05 00:00:00</td>\n",
       "      <td>NaN</td>\n",
       "      <td>80</td>\n",
       "      <td>64.0</td>\n",
       "      <td>Yes</td>\n",
       "    </tr>\n",
       "  </tbody>\n",
       "</table>\n",
       "</div>"
      ],
      "text/plain": [
       "   S/N  Name  Email Address       Lesson Summary  Quiz Summary  \\\n",
       "0    1  id_1            NaN                  0/5           NaN   \n",
       "1    2  id_2            NaN  2023-05-05 00:00:00           NaN   \n",
       "2    3  id_3            NaN  2023-02-05 00:00:00           NaN   \n",
       "3    4  id_4            NaN  2023-05-05 00:00:00           NaN   \n",
       "4    5  id_5            NaN  2023-06-05 00:00:00           NaN   \n",
       "\n",
       "   Assignment Summary  Grade Point Average Intermediate class Eligibility  \n",
       "0                   0                  0.0                             No  \n",
       "1                  70                 56.0                            Yes  \n",
       "2                  80                 64.0                            Yes  \n",
       "3                 100                 80.0                            Yes  \n",
       "4                  80                 64.0                            Yes  "
      ]
     },
     "execution_count": 5,
     "metadata": {},
     "output_type": "execute_result"
    }
   ],
   "source": [
    "# reading in the first dataset which is the original dataset\n",
    "df = pd.read_excel('Citrone Performance overview_id.xlsx')\n",
    "df.head()"
   ]
  },
  {
   "cell_type": "code",
   "execution_count": 6,
   "id": "1dd467e4-00f6-41f5-beca-d1b09ca7afdb",
   "metadata": {},
   "outputs": [
    {
     "data": {
      "text/plain": [
       "(60, 8)"
      ]
     },
     "execution_count": 6,
     "metadata": {},
     "output_type": "execute_result"
    }
   ],
   "source": [
    "df.shape"
   ]
  },
  {
   "cell_type": "code",
   "execution_count": 8,
   "id": "a8b9cee9-6d01-4e3e-9423-92a61f63db32",
   "metadata": {},
   "outputs": [
    {
     "data": {
      "text/html": [
       "<div>\n",
       "<style scoped>\n",
       "    .dataframe tbody tr th:only-of-type {\n",
       "        vertical-align: middle;\n",
       "    }\n",
       "\n",
       "    .dataframe tbody tr th {\n",
       "        vertical-align: top;\n",
       "    }\n",
       "\n",
       "    .dataframe thead th {\n",
       "        text-align: right;\n",
       "    }\n",
       "</style>\n",
       "<table border=\"1\" class=\"dataframe\">\n",
       "  <thead>\n",
       "    <tr style=\"text-align: right;\">\n",
       "      <th></th>\n",
       "      <th>Name</th>\n",
       "      <th>Email Address</th>\n",
       "      <th>Lesson Summary</th>\n",
       "      <th>Quiz Summary</th>\n",
       "      <th>Assignment Summary</th>\n",
       "      <th>Grade Point Average</th>\n",
       "      <th>Gender</th>\n",
       "      <th>Age</th>\n",
       "      <th>Children</th>\n",
       "      <th>Completed_Nysc</th>\n",
       "      <th>Intermediate class Eligibility</th>\n",
       "    </tr>\n",
       "  </thead>\n",
       "  <tbody>\n",
       "    <tr>\n",
       "      <th>0</th>\n",
       "      <td>1</td>\n",
       "      <td>NaN</td>\n",
       "      <td>2023-01-24</td>\n",
       "      <td>77</td>\n",
       "      <td>61</td>\n",
       "      <td>17</td>\n",
       "      <td>Female</td>\n",
       "      <td>25</td>\n",
       "      <td>True</td>\n",
       "      <td>False</td>\n",
       "      <td>True</td>\n",
       "    </tr>\n",
       "    <tr>\n",
       "      <th>1</th>\n",
       "      <td>2</td>\n",
       "      <td>NaN</td>\n",
       "      <td>2023-04-08</td>\n",
       "      <td>89</td>\n",
       "      <td>2</td>\n",
       "      <td>77</td>\n",
       "      <td>Male</td>\n",
       "      <td>31</td>\n",
       "      <td>False</td>\n",
       "      <td>False</td>\n",
       "      <td>False</td>\n",
       "    </tr>\n",
       "    <tr>\n",
       "      <th>2</th>\n",
       "      <td>3</td>\n",
       "      <td>NaN</td>\n",
       "      <td>2023-01-12</td>\n",
       "      <td>80</td>\n",
       "      <td>61</td>\n",
       "      <td>59</td>\n",
       "      <td>Male</td>\n",
       "      <td>30</td>\n",
       "      <td>True</td>\n",
       "      <td>True</td>\n",
       "      <td>True</td>\n",
       "    </tr>\n",
       "    <tr>\n",
       "      <th>3</th>\n",
       "      <td>4</td>\n",
       "      <td>NaN</td>\n",
       "      <td>2023-02-24</td>\n",
       "      <td>73</td>\n",
       "      <td>71</td>\n",
       "      <td>57</td>\n",
       "      <td>Male</td>\n",
       "      <td>24</td>\n",
       "      <td>True</td>\n",
       "      <td>True</td>\n",
       "      <td>True</td>\n",
       "    </tr>\n",
       "    <tr>\n",
       "      <th>4</th>\n",
       "      <td>5</td>\n",
       "      <td>NaN</td>\n",
       "      <td>2023-03-08</td>\n",
       "      <td>92</td>\n",
       "      <td>82</td>\n",
       "      <td>13</td>\n",
       "      <td>Male</td>\n",
       "      <td>39</td>\n",
       "      <td>False</td>\n",
       "      <td>False</td>\n",
       "      <td>False</td>\n",
       "    </tr>\n",
       "  </tbody>\n",
       "</table>\n",
       "</div>"
      ],
      "text/plain": [
       "   Name  Email Address Lesson Summary  Quiz Summary  Assignment Summary  \\\n",
       "0     1            NaN     2023-01-24            77                  61   \n",
       "1     2            NaN     2023-04-08            89                   2   \n",
       "2     3            NaN     2023-01-12            80                  61   \n",
       "3     4            NaN     2023-02-24            73                  71   \n",
       "4     5            NaN     2023-03-08            92                  82   \n",
       "\n",
       "   Grade Point Average  Gender  Age  Children  Completed_Nysc  \\\n",
       "0                   17  Female   25      True           False   \n",
       "1                   77    Male   31     False           False   \n",
       "2                   59    Male   30      True            True   \n",
       "3                   57    Male   24      True            True   \n",
       "4                   13    Male   39     False           False   \n",
       "\n",
       "   Intermediate class Eligibility  \n",
       "0                            True  \n",
       "1                           False  \n",
       "2                            True  \n",
       "3                            True  \n",
       "4                           False  "
      ]
     },
     "execution_count": 8,
     "metadata": {},
     "output_type": "execute_result"
    }
   ],
   "source": [
    "# Then the second dataset which is a generated copy of the first dataset\n",
    "df_copy = pd.read_csv('Copy of the Citrone performance data.csv')\n",
    "df_copy.head()"
   ]
  },
  {
   "cell_type": "code",
   "execution_count": 10,
   "id": "d51bad3f-4ccd-4bac-8072-9835365ffaec",
   "metadata": {},
   "outputs": [
    {
     "data": {
      "text/plain": [
       "(1000, 11)"
      ]
     },
     "execution_count": 10,
     "metadata": {},
     "output_type": "execute_result"
    }
   ],
   "source": [
    "df_copy.shape"
   ]
  },
  {
   "cell_type": "code",
   "execution_count": 11,
   "id": "4453fb41-4651-4092-a0a6-e610c887e93f",
   "metadata": {},
   "outputs": [
    {
     "data": {
      "text/html": [
       "<div>\n",
       "<style scoped>\n",
       "    .dataframe tbody tr th:only-of-type {\n",
       "        vertical-align: middle;\n",
       "    }\n",
       "\n",
       "    .dataframe tbody tr th {\n",
       "        vertical-align: top;\n",
       "    }\n",
       "\n",
       "    .dataframe thead th {\n",
       "        text-align: right;\n",
       "    }\n",
       "</style>\n",
       "<table border=\"1\" class=\"dataframe\">\n",
       "  <thead>\n",
       "    <tr style=\"text-align: right;\">\n",
       "      <th></th>\n",
       "      <th>Name</th>\n",
       "      <th>Email Address</th>\n",
       "      <th>Lesson Summary</th>\n",
       "      <th>Quiz Summary</th>\n",
       "      <th>Assignment Summary</th>\n",
       "      <th>Grade Point Average</th>\n",
       "      <th>Gender</th>\n",
       "      <th>Age</th>\n",
       "      <th>Children</th>\n",
       "      <th>Completed_Nysc</th>\n",
       "    </tr>\n",
       "  </thead>\n",
       "  <tbody>\n",
       "    <tr>\n",
       "      <th>0</th>\n",
       "      <td>1</td>\n",
       "      <td>NaN</td>\n",
       "      <td>2023-01-24</td>\n",
       "      <td>77</td>\n",
       "      <td>61</td>\n",
       "      <td>17</td>\n",
       "      <td>Female</td>\n",
       "      <td>25</td>\n",
       "      <td>True</td>\n",
       "      <td>False</td>\n",
       "    </tr>\n",
       "    <tr>\n",
       "      <th>1</th>\n",
       "      <td>2</td>\n",
       "      <td>NaN</td>\n",
       "      <td>2023-04-08</td>\n",
       "      <td>89</td>\n",
       "      <td>2</td>\n",
       "      <td>77</td>\n",
       "      <td>Male</td>\n",
       "      <td>31</td>\n",
       "      <td>False</td>\n",
       "      <td>False</td>\n",
       "    </tr>\n",
       "    <tr>\n",
       "      <th>2</th>\n",
       "      <td>3</td>\n",
       "      <td>NaN</td>\n",
       "      <td>2023-01-12</td>\n",
       "      <td>80</td>\n",
       "      <td>61</td>\n",
       "      <td>59</td>\n",
       "      <td>Male</td>\n",
       "      <td>30</td>\n",
       "      <td>True</td>\n",
       "      <td>True</td>\n",
       "    </tr>\n",
       "    <tr>\n",
       "      <th>3</th>\n",
       "      <td>4</td>\n",
       "      <td>NaN</td>\n",
       "      <td>2023-02-24</td>\n",
       "      <td>73</td>\n",
       "      <td>71</td>\n",
       "      <td>57</td>\n",
       "      <td>Male</td>\n",
       "      <td>24</td>\n",
       "      <td>True</td>\n",
       "      <td>True</td>\n",
       "    </tr>\n",
       "    <tr>\n",
       "      <th>4</th>\n",
       "      <td>5</td>\n",
       "      <td>NaN</td>\n",
       "      <td>2023-03-08</td>\n",
       "      <td>92</td>\n",
       "      <td>82</td>\n",
       "      <td>13</td>\n",
       "      <td>Male</td>\n",
       "      <td>39</td>\n",
       "      <td>False</td>\n",
       "      <td>False</td>\n",
       "    </tr>\n",
       "  </tbody>\n",
       "</table>\n",
       "</div>"
      ],
      "text/plain": [
       "   Name  Email Address Lesson Summary  Quiz Summary  Assignment Summary  \\\n",
       "0     1            NaN     2023-01-24            77                  61   \n",
       "1     2            NaN     2023-04-08            89                   2   \n",
       "2     3            NaN     2023-01-12            80                  61   \n",
       "3     4            NaN     2023-02-24            73                  71   \n",
       "4     5            NaN     2023-03-08            92                  82   \n",
       "\n",
       "   Grade Point Average  Gender  Age  Children  Completed_Nysc  \n",
       "0                   17  Female   25      True           False  \n",
       "1                   77    Male   31     False           False  \n",
       "2                   59    Male   30      True            True  \n",
       "3                   57    Male   24      True            True  \n",
       "4                   13    Male   39     False           False  "
      ]
     },
     "execution_count": 11,
     "metadata": {},
     "output_type": "execute_result"
    }
   ],
   "source": [
    "# Dropping the 'Intermediate class Eligibility' column\n",
    "df_copy = df_copy.drop(columns=[\"Intermediate class Eligibility\"], axis=1)\n",
    "df_copy.head()"
   ]
  },
  {
   "cell_type": "code",
   "execution_count": 12,
   "id": "1288636f-1424-4c50-8c6c-3b5549cba6df",
   "metadata": {},
   "outputs": [
    {
     "data": {
      "text/html": [
       "<div>\n",
       "<style scoped>\n",
       "    .dataframe tbody tr th:only-of-type {\n",
       "        vertical-align: middle;\n",
       "    }\n",
       "\n",
       "    .dataframe tbody tr th {\n",
       "        vertical-align: top;\n",
       "    }\n",
       "\n",
       "    .dataframe thead th {\n",
       "        text-align: right;\n",
       "    }\n",
       "</style>\n",
       "<table border=\"1\" class=\"dataframe\">\n",
       "  <thead>\n",
       "    <tr style=\"text-align: right;\">\n",
       "      <th></th>\n",
       "      <th>S/N</th>\n",
       "      <th>Name</th>\n",
       "      <th>Email Address</th>\n",
       "      <th>Lesson Summary</th>\n",
       "      <th>Quiz Summary</th>\n",
       "      <th>Assignment Summary</th>\n",
       "      <th>Grade Point Average</th>\n",
       "      <th>Intermediate class Eligibility</th>\n",
       "      <th>Gender</th>\n",
       "      <th>Age</th>\n",
       "      <th>Children</th>\n",
       "      <th>Completed_Nysc</th>\n",
       "    </tr>\n",
       "  </thead>\n",
       "  <tbody>\n",
       "    <tr>\n",
       "      <th>0</th>\n",
       "      <td>1.0</td>\n",
       "      <td>id_1</td>\n",
       "      <td>NaN</td>\n",
       "      <td>0/5</td>\n",
       "      <td>NaN</td>\n",
       "      <td>0</td>\n",
       "      <td>0.0</td>\n",
       "      <td>No</td>\n",
       "      <td>NaN</td>\n",
       "      <td>NaN</td>\n",
       "      <td>NaN</td>\n",
       "      <td>NaN</td>\n",
       "    </tr>\n",
       "    <tr>\n",
       "      <th>1</th>\n",
       "      <td>2.0</td>\n",
       "      <td>id_2</td>\n",
       "      <td>NaN</td>\n",
       "      <td>2023-05-05 00:00:00</td>\n",
       "      <td>NaN</td>\n",
       "      <td>70</td>\n",
       "      <td>56.0</td>\n",
       "      <td>Yes</td>\n",
       "      <td>NaN</td>\n",
       "      <td>NaN</td>\n",
       "      <td>NaN</td>\n",
       "      <td>NaN</td>\n",
       "    </tr>\n",
       "    <tr>\n",
       "      <th>2</th>\n",
       "      <td>3.0</td>\n",
       "      <td>id_3</td>\n",
       "      <td>NaN</td>\n",
       "      <td>2023-02-05 00:00:00</td>\n",
       "      <td>NaN</td>\n",
       "      <td>80</td>\n",
       "      <td>64.0</td>\n",
       "      <td>Yes</td>\n",
       "      <td>NaN</td>\n",
       "      <td>NaN</td>\n",
       "      <td>NaN</td>\n",
       "      <td>NaN</td>\n",
       "    </tr>\n",
       "    <tr>\n",
       "      <th>3</th>\n",
       "      <td>4.0</td>\n",
       "      <td>id_4</td>\n",
       "      <td>NaN</td>\n",
       "      <td>2023-05-05 00:00:00</td>\n",
       "      <td>NaN</td>\n",
       "      <td>100</td>\n",
       "      <td>80.0</td>\n",
       "      <td>Yes</td>\n",
       "      <td>NaN</td>\n",
       "      <td>NaN</td>\n",
       "      <td>NaN</td>\n",
       "      <td>NaN</td>\n",
       "    </tr>\n",
       "    <tr>\n",
       "      <th>4</th>\n",
       "      <td>5.0</td>\n",
       "      <td>id_5</td>\n",
       "      <td>NaN</td>\n",
       "      <td>2023-06-05 00:00:00</td>\n",
       "      <td>NaN</td>\n",
       "      <td>80</td>\n",
       "      <td>64.0</td>\n",
       "      <td>Yes</td>\n",
       "      <td>NaN</td>\n",
       "      <td>NaN</td>\n",
       "      <td>NaN</td>\n",
       "      <td>NaN</td>\n",
       "    </tr>\n",
       "  </tbody>\n",
       "</table>\n",
       "</div>"
      ],
      "text/plain": [
       "   S/N  Name  Email Address       Lesson Summary  Quiz Summary  \\\n",
       "0  1.0  id_1            NaN                  0/5           NaN   \n",
       "1  2.0  id_2            NaN  2023-05-05 00:00:00           NaN   \n",
       "2  3.0  id_3            NaN  2023-02-05 00:00:00           NaN   \n",
       "3  4.0  id_4            NaN  2023-05-05 00:00:00           NaN   \n",
       "4  5.0  id_5            NaN  2023-06-05 00:00:00           NaN   \n",
       "\n",
       "   Assignment Summary  Grade Point Average Intermediate class Eligibility  \\\n",
       "0                   0                  0.0                             No   \n",
       "1                  70                 56.0                            Yes   \n",
       "2                  80                 64.0                            Yes   \n",
       "3                 100                 80.0                            Yes   \n",
       "4                  80                 64.0                            Yes   \n",
       "\n",
       "  Gender  Age Children Completed_Nysc  \n",
       "0    NaN  NaN      NaN            NaN  \n",
       "1    NaN  NaN      NaN            NaN  \n",
       "2    NaN  NaN      NaN            NaN  \n",
       "3    NaN  NaN      NaN            NaN  \n",
       "4    NaN  NaN      NaN            NaN  "
      ]
     },
     "execution_count": 12,
     "metadata": {},
     "output_type": "execute_result"
    }
   ],
   "source": [
    "# Concatenating both dataframes\n",
    "data = pd.concat([df, df_copy], axis=False)\n",
    "data.head()"
   ]
  },
  {
   "cell_type": "code",
   "execution_count": 13,
   "id": "a8b3c22e-d0dc-4bd0-9eaf-310e7bbe5cba",
   "metadata": {},
   "outputs": [
    {
     "data": {
      "text/plain": [
       "(1060, 12)"
      ]
     },
     "execution_count": 13,
     "metadata": {},
     "output_type": "execute_result"
    }
   ],
   "source": [
    "data.shape"
   ]
  },
  {
   "cell_type": "code",
   "execution_count": 14,
   "id": "759dbfd6-c4e0-4dcf-ae5c-c9f9145d9cfa",
   "metadata": {},
   "outputs": [],
   "source": [
    "# resetting the index\n",
    "data = data.reset_index(drop=True)"
   ]
  },
  {
   "cell_type": "code",
   "execution_count": 15,
   "id": "d8b065cb-6cda-413a-9533-8aad0b673c59",
   "metadata": {},
   "outputs": [],
   "source": [
    "# replace column-name spaces with underscore\n",
    "new_columns = []\n",
    "for col in data.columns:\n",
    "    if \" \" in col:\n",
    "        fill = col.replace(\" \", \"_\")\n",
    "        new_columns.append(fill)\n",
    "    else:\n",
    "        new_columns.append(col) "
   ]
  },
  {
   "cell_type": "code",
   "execution_count": 16,
   "id": "35e1db18-5f81-423d-a5f5-14d32ef5401f",
   "metadata": {},
   "outputs": [
    {
     "data": {
      "text/plain": [
       "['S/N',\n",
       " 'Name',\n",
       " 'Email_Address',\n",
       " 'Lesson_Summary',\n",
       " 'Quiz_Summary',\n",
       " 'Assignment_Summary',\n",
       " 'Grade_Point_Average',\n",
       " 'Intermediate_class_Eligibility',\n",
       " 'Gender',\n",
       " 'Age',\n",
       " 'Children',\n",
       " 'Completed_Nysc']"
      ]
     },
     "execution_count": 16,
     "metadata": {},
     "output_type": "execute_result"
    }
   ],
   "source": [
    "new_columns"
   ]
  },
  {
   "cell_type": "code",
   "execution_count": 17,
   "id": "ef88a310-ef2c-4809-b333-dca3e1cbdc8c",
   "metadata": {},
   "outputs": [],
   "source": [
    "data.columns = new_columns"
   ]
  },
  {
   "cell_type": "code",
   "execution_count": 18,
   "id": "3de4c656-575e-4463-af95-420927a8f452",
   "metadata": {},
   "outputs": [],
   "source": [
    "#converting the new column names to lowercase\n",
    "data.columns = data.columns.str.lower()"
   ]
  },
  {
   "cell_type": "code",
   "execution_count": 19,
   "id": "431002d6-3e78-4c8c-9781-f251fef7051d",
   "metadata": {},
   "outputs": [
    {
     "data": {
      "text/html": [
       "<div>\n",
       "<style scoped>\n",
       "    .dataframe tbody tr th:only-of-type {\n",
       "        vertical-align: middle;\n",
       "    }\n",
       "\n",
       "    .dataframe tbody tr th {\n",
       "        vertical-align: top;\n",
       "    }\n",
       "\n",
       "    .dataframe thead th {\n",
       "        text-align: right;\n",
       "    }\n",
       "</style>\n",
       "<table border=\"1\" class=\"dataframe\">\n",
       "  <thead>\n",
       "    <tr style=\"text-align: right;\">\n",
       "      <th></th>\n",
       "      <th>s/n</th>\n",
       "      <th>name</th>\n",
       "      <th>email_address</th>\n",
       "      <th>lesson_summary</th>\n",
       "      <th>quiz_summary</th>\n",
       "      <th>assignment_summary</th>\n",
       "      <th>grade_point_average</th>\n",
       "      <th>intermediate_class_eligibility</th>\n",
       "      <th>gender</th>\n",
       "      <th>age</th>\n",
       "      <th>children</th>\n",
       "      <th>completed_nysc</th>\n",
       "    </tr>\n",
       "  </thead>\n",
       "  <tbody>\n",
       "    <tr>\n",
       "      <th>0</th>\n",
       "      <td>1.0</td>\n",
       "      <td>id_1</td>\n",
       "      <td>NaN</td>\n",
       "      <td>0/5</td>\n",
       "      <td>NaN</td>\n",
       "      <td>0</td>\n",
       "      <td>0.0</td>\n",
       "      <td>No</td>\n",
       "      <td>NaN</td>\n",
       "      <td>NaN</td>\n",
       "      <td>NaN</td>\n",
       "      <td>NaN</td>\n",
       "    </tr>\n",
       "  </tbody>\n",
       "</table>\n",
       "</div>"
      ],
      "text/plain": [
       "   s/n  name  email_address lesson_summary  quiz_summary  assignment_summary  \\\n",
       "0  1.0  id_1            NaN            0/5           NaN                   0   \n",
       "\n",
       "   grade_point_average intermediate_class_eligibility gender  age children  \\\n",
       "0                  0.0                             No    NaN  NaN      NaN   \n",
       "\n",
       "  completed_nysc  \n",
       "0            NaN  "
      ]
     },
     "execution_count": 19,
     "metadata": {},
     "output_type": "execute_result"
    }
   ],
   "source": [
    "data.head(1)"
   ]
  },
  {
   "cell_type": "code",
   "execution_count": 20,
   "id": "20c6b768-2bff-485b-9afe-f480f856113c",
   "metadata": {},
   "outputs": [],
   "source": [
    "# dropping the eligibility column altogether\n",
    "data = data.drop(columns=\"intermediate_class_eligibility\", axis=1)"
   ]
  },
  {
   "cell_type": "code",
   "execution_count": 21,
   "id": "e239e2b6-27da-4773-b73c-ad725bda21aa",
   "metadata": {},
   "outputs": [
    {
     "data": {
      "text/html": [
       "<div>\n",
       "<style scoped>\n",
       "    .dataframe tbody tr th:only-of-type {\n",
       "        vertical-align: middle;\n",
       "    }\n",
       "\n",
       "    .dataframe tbody tr th {\n",
       "        vertical-align: top;\n",
       "    }\n",
       "\n",
       "    .dataframe thead th {\n",
       "        text-align: right;\n",
       "    }\n",
       "</style>\n",
       "<table border=\"1\" class=\"dataframe\">\n",
       "  <thead>\n",
       "    <tr style=\"text-align: right;\">\n",
       "      <th></th>\n",
       "      <th>s/n</th>\n",
       "      <th>name</th>\n",
       "      <th>email_address</th>\n",
       "      <th>lesson_summary</th>\n",
       "      <th>quiz_summary</th>\n",
       "      <th>assignment_summary</th>\n",
       "      <th>grade_point_average</th>\n",
       "      <th>gender</th>\n",
       "      <th>age</th>\n",
       "      <th>children</th>\n",
       "      <th>completed_nysc</th>\n",
       "    </tr>\n",
       "  </thead>\n",
       "  <tbody>\n",
       "    <tr>\n",
       "      <th>0</th>\n",
       "      <td>1.0</td>\n",
       "      <td>id_1</td>\n",
       "      <td>NaN</td>\n",
       "      <td>0/5</td>\n",
       "      <td>NaN</td>\n",
       "      <td>0</td>\n",
       "      <td>0.0</td>\n",
       "      <td>NaN</td>\n",
       "      <td>NaN</td>\n",
       "      <td>NaN</td>\n",
       "      <td>NaN</td>\n",
       "    </tr>\n",
       "  </tbody>\n",
       "</table>\n",
       "</div>"
      ],
      "text/plain": [
       "   s/n  name  email_address lesson_summary  quiz_summary  assignment_summary  \\\n",
       "0  1.0  id_1            NaN            0/5           NaN                   0   \n",
       "\n",
       "   grade_point_average gender  age children completed_nysc  \n",
       "0                  0.0    NaN  NaN      NaN            NaN  "
      ]
     },
     "execution_count": 21,
     "metadata": {},
     "output_type": "execute_result"
    }
   ],
   "source": [
    "data.head(1)"
   ]
  },
  {
   "cell_type": "code",
   "execution_count": 22,
   "id": "08f9a80f-c908-4565-8e52-fc0a40c1a599",
   "metadata": {},
   "outputs": [
    {
     "data": {
      "text/plain": [
       "s/n                    1000\n",
       "name                      0\n",
       "email_address          1060\n",
       "lesson_summary            0\n",
       "quiz_summary             60\n",
       "assignment_summary        0\n",
       "grade_point_average       0\n",
       "gender                   60\n",
       "age                      60\n",
       "children                 60\n",
       "completed_nysc           60\n",
       "dtype: int64"
      ]
     },
     "execution_count": 22,
     "metadata": {},
     "output_type": "execute_result"
    }
   ],
   "source": [
    "# checking about \n",
    "data.isnull().sum()"
   ]
  },
  {
   "cell_type": "code",
   "execution_count": 23,
   "id": "ac9a2eb1-fff5-4992-89eb-a653f9c6c887",
   "metadata": {},
   "outputs": [
    {
     "data": {
      "text/plain": [
       "s/n                    float64\n",
       "name                    object\n",
       "email_address          float64\n",
       "lesson_summary          object\n",
       "quiz_summary           float64\n",
       "assignment_summary       int64\n",
       "grade_point_average    float64\n",
       "gender                  object\n",
       "age                    float64\n",
       "children                object\n",
       "completed_nysc          object\n",
       "dtype: object"
      ]
     },
     "execution_count": 23,
     "metadata": {},
     "output_type": "execute_result"
    }
   ],
   "source": [
    "# dealing with missing values\n",
    "data.dtypes"
   ]
  },
  {
   "cell_type": "markdown",
   "id": "81ffecb6-0670-4884-b3cd-b1be63f883f2",
   "metadata": {},
   "source": [
    "Filling the null values in all columns using a for loop"
   ]
  },
  {
   "cell_type": "code",
   "execution_count": 24,
   "id": "b4c1b88c-d26f-4a59-b2c7-cf0ffcde1c32",
   "metadata": {},
   "outputs": [
    {
     "name": "stderr",
     "output_type": "stream",
     "text": [
      "/var/folders/8q/chrmd63d01xcfggc03fvrk2c0000gn/T/ipykernel_23162/2412993445.py:8: UserWarning: Unable to sort modes: '<' not supported between instances of 'int' and 'str'\n",
      "  data[col] = data[col].fillna(data[col].mode()[0]) # filling the object columns with the mode of columns\n",
      "/var/folders/8q/chrmd63d01xcfggc03fvrk2c0000gn/T/ipykernel_23162/2412993445.py:8: FutureWarning: Downcasting object dtype arrays on .fillna, .ffill, .bfill is deprecated and will change in a future version. Call result.infer_objects(copy=False) instead. To opt-in to the future behavior, set `pd.set_option('future.no_silent_downcasting', True)`\n",
      "  data[col] = data[col].fillna(data[col].mode()[0]) # filling the object columns with the mode of columns\n"
     ]
    }
   ],
   "source": [
    "for col in data.columns:\n",
    "    if data[col].dtype == np.dtype(\"float64\"):\n",
    "        data[col] = data[col].fillna(data[col].mean()).round() # filling the float columns with the mean of columns \n",
    "        \n",
    "    elif data[col].dtype == np.dtype(\"int64\"):\n",
    "        data[col] = data[col].fillna(data[col].mean()).round() # filling the int columns with the mean of columns \n",
    "    elif data[col].dtype == np.dtype(\"object\"):\n",
    "        data[col] = data[col].fillna(data[col].mode()[0]) # filling the object columns with the mode of columns "
   ]
  },
  {
   "cell_type": "code",
   "execution_count": 25,
   "id": "540a8962-b417-4e74-a101-520a233b19e2",
   "metadata": {},
   "outputs": [
    {
     "data": {
      "text/html": [
       "<div>\n",
       "<style scoped>\n",
       "    .dataframe tbody tr th:only-of-type {\n",
       "        vertical-align: middle;\n",
       "    }\n",
       "\n",
       "    .dataframe tbody tr th {\n",
       "        vertical-align: top;\n",
       "    }\n",
       "\n",
       "    .dataframe thead th {\n",
       "        text-align: right;\n",
       "    }\n",
       "</style>\n",
       "<table border=\"1\" class=\"dataframe\">\n",
       "  <thead>\n",
       "    <tr style=\"text-align: right;\">\n",
       "      <th></th>\n",
       "      <th>s/n</th>\n",
       "      <th>name</th>\n",
       "      <th>email_address</th>\n",
       "      <th>lesson_summary</th>\n",
       "      <th>quiz_summary</th>\n",
       "      <th>assignment_summary</th>\n",
       "      <th>grade_point_average</th>\n",
       "      <th>gender</th>\n",
       "      <th>age</th>\n",
       "      <th>children</th>\n",
       "      <th>completed_nysc</th>\n",
       "    </tr>\n",
       "  </thead>\n",
       "  <tbody>\n",
       "    <tr>\n",
       "      <th>0</th>\n",
       "      <td>1.0</td>\n",
       "      <td>id_1</td>\n",
       "      <td>NaN</td>\n",
       "      <td>0/5</td>\n",
       "      <td>73.0</td>\n",
       "      <td>0</td>\n",
       "      <td>0.0</td>\n",
       "      <td>Male</td>\n",
       "      <td>29.0</td>\n",
       "      <td>True</td>\n",
       "      <td>True</td>\n",
       "    </tr>\n",
       "    <tr>\n",
       "      <th>1</th>\n",
       "      <td>2.0</td>\n",
       "      <td>id_2</td>\n",
       "      <td>NaN</td>\n",
       "      <td>2023-05-05 00:00:00</td>\n",
       "      <td>73.0</td>\n",
       "      <td>70</td>\n",
       "      <td>56.0</td>\n",
       "      <td>Male</td>\n",
       "      <td>29.0</td>\n",
       "      <td>True</td>\n",
       "      <td>True</td>\n",
       "    </tr>\n",
       "  </tbody>\n",
       "</table>\n",
       "</div>"
      ],
      "text/plain": [
       "   s/n  name  email_address       lesson_summary  quiz_summary  \\\n",
       "0  1.0  id_1            NaN                  0/5          73.0   \n",
       "1  2.0  id_2            NaN  2023-05-05 00:00:00          73.0   \n",
       "\n",
       "   assignment_summary  grade_point_average gender   age  children  \\\n",
       "0                   0                  0.0   Male  29.0      True   \n",
       "1                  70                 56.0   Male  29.0      True   \n",
       "\n",
       "   completed_nysc  \n",
       "0            True  \n",
       "1            True  "
      ]
     },
     "execution_count": 25,
     "metadata": {},
     "output_type": "execute_result"
    }
   ],
   "source": [
    "data.head(2)"
   ]
  },
  {
   "cell_type": "code",
   "execution_count": 26,
   "id": "fbbdcbf7-6cc3-436b-b647-bb8eadf9e228",
   "metadata": {},
   "outputs": [
    {
     "data": {
      "text/html": [
       "<div>\n",
       "<style scoped>\n",
       "    .dataframe tbody tr th:only-of-type {\n",
       "        vertical-align: middle;\n",
       "    }\n",
       "\n",
       "    .dataframe tbody tr th {\n",
       "        vertical-align: top;\n",
       "    }\n",
       "\n",
       "    .dataframe thead th {\n",
       "        text-align: right;\n",
       "    }\n",
       "</style>\n",
       "<table border=\"1\" class=\"dataframe\">\n",
       "  <thead>\n",
       "    <tr style=\"text-align: right;\">\n",
       "      <th></th>\n",
       "      <th>quiz_summary</th>\n",
       "      <th>assignment_summary</th>\n",
       "      <th>grade_point_average</th>\n",
       "      <th>gender</th>\n",
       "      <th>age</th>\n",
       "      <th>children</th>\n",
       "      <th>completed_nysc</th>\n",
       "    </tr>\n",
       "  </thead>\n",
       "  <tbody>\n",
       "    <tr>\n",
       "      <th>0</th>\n",
       "      <td>73.0</td>\n",
       "      <td>0</td>\n",
       "      <td>0.0</td>\n",
       "      <td>Male</td>\n",
       "      <td>29.0</td>\n",
       "      <td>True</td>\n",
       "      <td>True</td>\n",
       "    </tr>\n",
       "    <tr>\n",
       "      <th>1</th>\n",
       "      <td>73.0</td>\n",
       "      <td>70</td>\n",
       "      <td>56.0</td>\n",
       "      <td>Male</td>\n",
       "      <td>29.0</td>\n",
       "      <td>True</td>\n",
       "      <td>True</td>\n",
       "    </tr>\n",
       "  </tbody>\n",
       "</table>\n",
       "</div>"
      ],
      "text/plain": [
       "   quiz_summary  assignment_summary  grade_point_average gender   age  \\\n",
       "0          73.0                   0                  0.0   Male  29.0   \n",
       "1          73.0                  70                 56.0   Male  29.0   \n",
       "\n",
       "   children  completed_nysc  \n",
       "0      True            True  \n",
       "1      True            True  "
      ]
     },
     "execution_count": 26,
     "metadata": {},
     "output_type": "execute_result"
    }
   ],
   "source": [
    "# dropping the irrelevant columns\n",
    "cleaned_df = data.drop(columns=[\"s/n\",\"name\", \"email_address\", \"lesson_summary\"], axis=1)\n",
    "cleaned_df.head(2)"
   ]
  },
  {
   "cell_type": "code",
   "execution_count": 27,
   "id": "d1a701ea-b65e-420f-bf3e-0f91bd332e31",
   "metadata": {},
   "outputs": [],
   "source": [
    "# Calculating the correct values for Grade point Avg column\n",
    "cleaned_df.grade_point_average = (cleaned_df.quiz_summary + cleaned_df.assignment_summary) / 2"
   ]
  },
  {
   "cell_type": "code",
   "execution_count": 28,
   "id": "ab6e7fb6-afbd-4efd-81a7-926b51b93739",
   "metadata": {},
   "outputs": [
    {
     "data": {
      "text/html": [
       "<div>\n",
       "<style scoped>\n",
       "    .dataframe tbody tr th:only-of-type {\n",
       "        vertical-align: middle;\n",
       "    }\n",
       "\n",
       "    .dataframe tbody tr th {\n",
       "        vertical-align: top;\n",
       "    }\n",
       "\n",
       "    .dataframe thead th {\n",
       "        text-align: right;\n",
       "    }\n",
       "</style>\n",
       "<table border=\"1\" class=\"dataframe\">\n",
       "  <thead>\n",
       "    <tr style=\"text-align: right;\">\n",
       "      <th></th>\n",
       "      <th>quiz_summary</th>\n",
       "      <th>assignment_summary</th>\n",
       "      <th>grade_point_average</th>\n",
       "      <th>gender</th>\n",
       "      <th>age</th>\n",
       "      <th>children</th>\n",
       "      <th>completed_nysc</th>\n",
       "    </tr>\n",
       "  </thead>\n",
       "  <tbody>\n",
       "    <tr>\n",
       "      <th>1055</th>\n",
       "      <td>76.0</td>\n",
       "      <td>1</td>\n",
       "      <td>38.5</td>\n",
       "      <td>Male</td>\n",
       "      <td>23.0</td>\n",
       "      <td>False</td>\n",
       "      <td>True</td>\n",
       "    </tr>\n",
       "    <tr>\n",
       "      <th>1056</th>\n",
       "      <td>60.0</td>\n",
       "      <td>99</td>\n",
       "      <td>79.5</td>\n",
       "      <td>Male</td>\n",
       "      <td>24.0</td>\n",
       "      <td>True</td>\n",
       "      <td>True</td>\n",
       "    </tr>\n",
       "    <tr>\n",
       "      <th>1057</th>\n",
       "      <td>93.0</td>\n",
       "      <td>37</td>\n",
       "      <td>65.0</td>\n",
       "      <td>Female</td>\n",
       "      <td>18.0</td>\n",
       "      <td>True</td>\n",
       "      <td>False</td>\n",
       "    </tr>\n",
       "    <tr>\n",
       "      <th>1058</th>\n",
       "      <td>64.0</td>\n",
       "      <td>19</td>\n",
       "      <td>41.5</td>\n",
       "      <td>Male</td>\n",
       "      <td>20.0</td>\n",
       "      <td>True</td>\n",
       "      <td>False</td>\n",
       "    </tr>\n",
       "    <tr>\n",
       "      <th>1059</th>\n",
       "      <td>86.0</td>\n",
       "      <td>84</td>\n",
       "      <td>85.0</td>\n",
       "      <td>Female</td>\n",
       "      <td>22.0</td>\n",
       "      <td>True</td>\n",
       "      <td>True</td>\n",
       "    </tr>\n",
       "  </tbody>\n",
       "</table>\n",
       "</div>"
      ],
      "text/plain": [
       "      quiz_summary  assignment_summary  grade_point_average  gender   age  \\\n",
       "1055          76.0                   1                 38.5    Male  23.0   \n",
       "1056          60.0                  99                 79.5    Male  24.0   \n",
       "1057          93.0                  37                 65.0  Female  18.0   \n",
       "1058          64.0                  19                 41.5    Male  20.0   \n",
       "1059          86.0                  84                 85.0  Female  22.0   \n",
       "\n",
       "      children  completed_nysc  \n",
       "1055     False            True  \n",
       "1056      True            True  \n",
       "1057      True           False  \n",
       "1058      True           False  \n",
       "1059      True            True  "
      ]
     },
     "execution_count": 28,
     "metadata": {},
     "output_type": "execute_result"
    }
   ],
   "source": [
    "cleaned_df.tail()"
   ]
  },
  {
   "cell_type": "code",
   "execution_count": 29,
   "id": "566492d8-bcb5-4c16-8292-b55ef35d27e4",
   "metadata": {},
   "outputs": [],
   "source": [
    "# calculating the correct values for eligibility column\n",
    "def grade_point(row):\n",
    "    if row >= 50:\n",
    "        return \"Yes\"\n",
    "    else:\n",
    "        return \"No\""
   ]
  },
  {
   "cell_type": "code",
   "execution_count": 30,
   "id": "0e14d599-dcd0-4500-af9c-b6d8268dc99a",
   "metadata": {},
   "outputs": [],
   "source": [
    "cleaned_df[\"eligibility_status\"] = cleaned_df.grade_point_average.apply(lambda x:grade_point(x) )"
   ]
  },
  {
   "cell_type": "code",
   "execution_count": 31,
   "id": "2c3b3aa6-62e6-4294-99da-85570c95e52b",
   "metadata": {},
   "outputs": [
    {
     "data": {
      "text/html": [
       "<div>\n",
       "<style scoped>\n",
       "    .dataframe tbody tr th:only-of-type {\n",
       "        vertical-align: middle;\n",
       "    }\n",
       "\n",
       "    .dataframe tbody tr th {\n",
       "        vertical-align: top;\n",
       "    }\n",
       "\n",
       "    .dataframe thead th {\n",
       "        text-align: right;\n",
       "    }\n",
       "</style>\n",
       "<table border=\"1\" class=\"dataframe\">\n",
       "  <thead>\n",
       "    <tr style=\"text-align: right;\">\n",
       "      <th></th>\n",
       "      <th>quiz_summary</th>\n",
       "      <th>assignment_summary</th>\n",
       "      <th>grade_point_average</th>\n",
       "      <th>gender</th>\n",
       "      <th>age</th>\n",
       "      <th>children</th>\n",
       "      <th>completed_nysc</th>\n",
       "      <th>eligibility_status</th>\n",
       "    </tr>\n",
       "  </thead>\n",
       "  <tbody>\n",
       "    <tr>\n",
       "      <th>1053</th>\n",
       "      <td>49.0</td>\n",
       "      <td>86</td>\n",
       "      <td>67.5</td>\n",
       "      <td>Male</td>\n",
       "      <td>23.0</td>\n",
       "      <td>False</td>\n",
       "      <td>True</td>\n",
       "      <td>Yes</td>\n",
       "    </tr>\n",
       "    <tr>\n",
       "      <th>1054</th>\n",
       "      <td>82.0</td>\n",
       "      <td>90</td>\n",
       "      <td>86.0</td>\n",
       "      <td>Female</td>\n",
       "      <td>19.0</td>\n",
       "      <td>True</td>\n",
       "      <td>False</td>\n",
       "      <td>Yes</td>\n",
       "    </tr>\n",
       "    <tr>\n",
       "      <th>1055</th>\n",
       "      <td>76.0</td>\n",
       "      <td>1</td>\n",
       "      <td>38.5</td>\n",
       "      <td>Male</td>\n",
       "      <td>23.0</td>\n",
       "      <td>False</td>\n",
       "      <td>True</td>\n",
       "      <td>No</td>\n",
       "    </tr>\n",
       "    <tr>\n",
       "      <th>1056</th>\n",
       "      <td>60.0</td>\n",
       "      <td>99</td>\n",
       "      <td>79.5</td>\n",
       "      <td>Male</td>\n",
       "      <td>24.0</td>\n",
       "      <td>True</td>\n",
       "      <td>True</td>\n",
       "      <td>Yes</td>\n",
       "    </tr>\n",
       "    <tr>\n",
       "      <th>1057</th>\n",
       "      <td>93.0</td>\n",
       "      <td>37</td>\n",
       "      <td>65.0</td>\n",
       "      <td>Female</td>\n",
       "      <td>18.0</td>\n",
       "      <td>True</td>\n",
       "      <td>False</td>\n",
       "      <td>Yes</td>\n",
       "    </tr>\n",
       "    <tr>\n",
       "      <th>1058</th>\n",
       "      <td>64.0</td>\n",
       "      <td>19</td>\n",
       "      <td>41.5</td>\n",
       "      <td>Male</td>\n",
       "      <td>20.0</td>\n",
       "      <td>True</td>\n",
       "      <td>False</td>\n",
       "      <td>No</td>\n",
       "    </tr>\n",
       "    <tr>\n",
       "      <th>1059</th>\n",
       "      <td>86.0</td>\n",
       "      <td>84</td>\n",
       "      <td>85.0</td>\n",
       "      <td>Female</td>\n",
       "      <td>22.0</td>\n",
       "      <td>True</td>\n",
       "      <td>True</td>\n",
       "      <td>Yes</td>\n",
       "    </tr>\n",
       "  </tbody>\n",
       "</table>\n",
       "</div>"
      ],
      "text/plain": [
       "      quiz_summary  assignment_summary  grade_point_average  gender   age  \\\n",
       "1053          49.0                  86                 67.5    Male  23.0   \n",
       "1054          82.0                  90                 86.0  Female  19.0   \n",
       "1055          76.0                   1                 38.5    Male  23.0   \n",
       "1056          60.0                  99                 79.5    Male  24.0   \n",
       "1057          93.0                  37                 65.0  Female  18.0   \n",
       "1058          64.0                  19                 41.5    Male  20.0   \n",
       "1059          86.0                  84                 85.0  Female  22.0   \n",
       "\n",
       "      children  completed_nysc eligibility_status  \n",
       "1053     False            True                Yes  \n",
       "1054      True           False                Yes  \n",
       "1055     False            True                 No  \n",
       "1056      True            True                Yes  \n",
       "1057      True           False                Yes  \n",
       "1058      True           False                 No  \n",
       "1059      True            True                Yes  "
      ]
     },
     "execution_count": 31,
     "metadata": {},
     "output_type": "execute_result"
    }
   ],
   "source": [
    "cleaned_df.tail(7)"
   ]
  },
  {
   "cell_type": "markdown",
   "id": "a8ca308c-c532-4a0c-9383-401912f16d17",
   "metadata": {},
   "source": [
    "### Exploratory Data Analysis"
   ]
  },
  {
   "cell_type": "code",
   "execution_count": 32,
   "id": "2dd37c4b-8bd8-41c4-a615-09214c92e5aa",
   "metadata": {},
   "outputs": [
    {
     "name": "stdout",
     "output_type": "stream",
     "text": [
      "<class 'pandas.core.frame.DataFrame'>\n",
      "RangeIndex: 1060 entries, 0 to 1059\n",
      "Data columns (total 8 columns):\n",
      " #   Column               Non-Null Count  Dtype  \n",
      "---  ------               --------------  -----  \n",
      " 0   quiz_summary         1060 non-null   float64\n",
      " 1   assignment_summary   1060 non-null   int64  \n",
      " 2   grade_point_average  1060 non-null   float64\n",
      " 3   gender               1060 non-null   object \n",
      " 4   age                  1060 non-null   float64\n",
      " 5   children             1060 non-null   bool   \n",
      " 6   completed_nysc       1060 non-null   bool   \n",
      " 7   eligibility_status   1060 non-null   object \n",
      "dtypes: bool(2), float64(3), int64(1), object(2)\n",
      "memory usage: 51.9+ KB\n"
     ]
    }
   ],
   "source": [
    "cleaned_df.info()"
   ]
  },
  {
   "cell_type": "code",
   "execution_count": 33,
   "id": "4cf5db3f-fb65-4da8-8cf0-89a7a4ef7b4d",
   "metadata": {},
   "outputs": [
    {
     "data": {
      "text/html": [
       "<div>\n",
       "<style scoped>\n",
       "    .dataframe tbody tr th:only-of-type {\n",
       "        vertical-align: middle;\n",
       "    }\n",
       "\n",
       "    .dataframe tbody tr th {\n",
       "        vertical-align: top;\n",
       "    }\n",
       "\n",
       "    .dataframe thead th {\n",
       "        text-align: right;\n",
       "    }\n",
       "</style>\n",
       "<table border=\"1\" class=\"dataframe\">\n",
       "  <thead>\n",
       "    <tr style=\"text-align: right;\">\n",
       "      <th></th>\n",
       "      <th>quiz_summary</th>\n",
       "      <th>assignment_summary</th>\n",
       "      <th>grade_point_average</th>\n",
       "      <th>age</th>\n",
       "    </tr>\n",
       "  </thead>\n",
       "  <tbody>\n",
       "    <tr>\n",
       "      <th>count</th>\n",
       "      <td>1060.000000</td>\n",
       "      <td>1060.000000</td>\n",
       "      <td>1060.000000</td>\n",
       "      <td>1060.000000</td>\n",
       "    </tr>\n",
       "    <tr>\n",
       "      <th>mean</th>\n",
       "      <td>73.340566</td>\n",
       "      <td>49.350000</td>\n",
       "      <td>61.345283</td>\n",
       "      <td>29.039623</td>\n",
       "    </tr>\n",
       "    <tr>\n",
       "      <th>std</th>\n",
       "      <td>15.663363</td>\n",
       "      <td>30.019873</td>\n",
       "      <td>17.223209</td>\n",
       "      <td>6.367435</td>\n",
       "    </tr>\n",
       "    <tr>\n",
       "      <th>min</th>\n",
       "      <td>45.000000</td>\n",
       "      <td>0.000000</td>\n",
       "      <td>23.500000</td>\n",
       "      <td>18.000000</td>\n",
       "    </tr>\n",
       "    <tr>\n",
       "      <th>25%</th>\n",
       "      <td>60.000000</td>\n",
       "      <td>22.000000</td>\n",
       "      <td>48.000000</td>\n",
       "      <td>24.000000</td>\n",
       "    </tr>\n",
       "    <tr>\n",
       "      <th>50%</th>\n",
       "      <td>73.000000</td>\n",
       "      <td>51.000000</td>\n",
       "      <td>61.750000</td>\n",
       "      <td>29.000000</td>\n",
       "    </tr>\n",
       "    <tr>\n",
       "      <th>75%</th>\n",
       "      <td>87.000000</td>\n",
       "      <td>75.000000</td>\n",
       "      <td>75.000000</td>\n",
       "      <td>34.000000</td>\n",
       "    </tr>\n",
       "    <tr>\n",
       "      <th>max</th>\n",
       "      <td>100.000000</td>\n",
       "      <td>100.000000</td>\n",
       "      <td>97.500000</td>\n",
       "      <td>40.000000</td>\n",
       "    </tr>\n",
       "  </tbody>\n",
       "</table>\n",
       "</div>"
      ],
      "text/plain": [
       "       quiz_summary  assignment_summary  grade_point_average          age\n",
       "count   1060.000000         1060.000000          1060.000000  1060.000000\n",
       "mean      73.340566           49.350000            61.345283    29.039623\n",
       "std       15.663363           30.019873            17.223209     6.367435\n",
       "min       45.000000            0.000000            23.500000    18.000000\n",
       "25%       60.000000           22.000000            48.000000    24.000000\n",
       "50%       73.000000           51.000000            61.750000    29.000000\n",
       "75%       87.000000           75.000000            75.000000    34.000000\n",
       "max      100.000000          100.000000            97.500000    40.000000"
      ]
     },
     "execution_count": 33,
     "metadata": {},
     "output_type": "execute_result"
    }
   ],
   "source": [
    "cleaned_df.describe()"
   ]
  },
  {
   "cell_type": "code",
   "execution_count": 34,
   "id": "bc9a0c38-5db6-4e37-8981-877bdb9a036b",
   "metadata": {},
   "outputs": [
    {
     "data": {
      "image/png": "[encoded data removed]",
      "text/plain": [
       "<Figure size 1500x800 with 4 Axes>"
      ]
     },
     "metadata": {},
     "output_type": "display_data"
    }
   ],
   "source": [
    "cleaned_df.hist(figsize=(15, 8), grid=False);"
   ]
  },
  {
   "cell_type": "code",
   "execution_count": 35,
   "id": "75dd4131-b20d-4497-a7e9-3642faa36c78",
   "metadata": {},
   "outputs": [],
   "source": [
    "cleaned_df.eligibility_status = (cleaned_df.eligibility_status == \"Yes\").astype(int)"
   ]
  },
  {
   "cell_type": "code",
   "execution_count": 36,
   "id": "2a00d228-9b54-4c53-8f35-235a543535b4",
   "metadata": {},
   "outputs": [
    {
     "data": {
      "text/plain": [
       "<Axes: xlabel='eligibility_status', ylabel='count'>"
      ]
     },
     "execution_count": 36,
     "metadata": {},
     "output_type": "execute_result"
    },
    {
     "data": {
      "image/png": "[encoded data removed]",
      "text/plain": [
       "<Figure size 640x480 with 1 Axes>"
      ]
     },
     "metadata": {},
     "output_type": "display_data"
    }
   ],
   "source": [
    "sns.countplot(data=cleaned_df, x= \"eligibility_status\")"
   ]
  },
  {
   "cell_type": "code",
   "execution_count": 37,
   "id": "29175429-4b9d-4ce0-9fde-d4cad05098dc",
   "metadata": {},
   "outputs": [
    {
     "data": {
      "text/plain": [
       "quiz_summary           0.379847\n",
       "assignment_summary     0.690260\n",
       "grade_point_average    0.774281\n",
       "age                    0.021736\n",
       "eligibility_status     1.000000\n",
       "Name: eligibility_status, dtype: float64"
      ]
     },
     "execution_count": 37,
     "metadata": {},
     "output_type": "execute_result"
    }
   ],
   "source": [
    "# Checking the correlation of other variables with the target variable\n",
    "cleaned_df.select_dtypes(\"number\").corr()[\"eligibility_status\"]"
   ]
  },
  {
   "cell_type": "code",
   "execution_count": 38,
   "id": "3c2e57db-aca9-4ee9-a804-7a6faf91e226",
   "metadata": {},
   "outputs": [
    {
     "data": {
      "text/html": [
       "<div>\n",
       "<style scoped>\n",
       "    .dataframe tbody tr th:only-of-type {\n",
       "        vertical-align: middle;\n",
       "    }\n",
       "\n",
       "    .dataframe tbody tr th {\n",
       "        vertical-align: top;\n",
       "    }\n",
       "\n",
       "    .dataframe thead th {\n",
       "        text-align: right;\n",
       "    }\n",
       "</style>\n",
       "<table border=\"1\" class=\"dataframe\">\n",
       "  <thead>\n",
       "    <tr style=\"text-align: right;\">\n",
       "      <th></th>\n",
       "      <th>quiz_summary</th>\n",
       "      <th>assignment_summary</th>\n",
       "      <th>grade_point_average</th>\n",
       "      <th>age</th>\n",
       "      <th>children</th>\n",
       "      <th>completed_nysc</th>\n",
       "      <th>eligibility_status</th>\n",
       "      <th>gender_Male</th>\n",
       "    </tr>\n",
       "  </thead>\n",
       "  <tbody>\n",
       "    <tr>\n",
       "      <th>0</th>\n",
       "      <td>73.0</td>\n",
       "      <td>0</td>\n",
       "      <td>36.5</td>\n",
       "      <td>29.0</td>\n",
       "      <td>True</td>\n",
       "      <td>True</td>\n",
       "      <td>0</td>\n",
       "      <td>True</td>\n",
       "    </tr>\n",
       "    <tr>\n",
       "      <th>1</th>\n",
       "      <td>73.0</td>\n",
       "      <td>70</td>\n",
       "      <td>71.5</td>\n",
       "      <td>29.0</td>\n",
       "      <td>True</td>\n",
       "      <td>True</td>\n",
       "      <td>1</td>\n",
       "      <td>True</td>\n",
       "    </tr>\n",
       "  </tbody>\n",
       "</table>\n",
       "</div>"
      ],
      "text/plain": [
       "   quiz_summary  assignment_summary  grade_point_average   age  children  \\\n",
       "0          73.0                   0                 36.5  29.0      True   \n",
       "1          73.0                  70                 71.5  29.0      True   \n",
       "\n",
       "   completed_nysc  eligibility_status  gender_Male  \n",
       "0            True                   0         True  \n",
       "1            True                   1         True  "
      ]
     },
     "execution_count": 38,
     "metadata": {},
     "output_type": "execute_result"
    }
   ],
   "source": [
    "# getting the dummies of the numeric fields\n",
    "cleaned_df = pd.get_dummies(cleaned_df, drop_first=True)\n",
    "cleaned_df.head(2)"
   ]
  },
  {
   "cell_type": "code",
   "execution_count": 39,
   "id": "84032b50-29c1-4433-97a7-3e72e84f09fd",
   "metadata": {},
   "outputs": [],
   "source": [
    "X = cleaned_df.drop(\"eligibility_status\", axis=1)\n",
    "y = cleaned_df.eligibility_status"
   ]
  },
  {
   "cell_type": "code",
   "execution_count": 40,
   "id": "250d9be1-f743-4e7a-9b23-49c9479d0226",
   "metadata": {},
   "outputs": [],
   "source": [
    "from sklearn.model_selection import train_test_split\n",
    "from sklearn.linear_model import LogisticRegression\n",
    "from sklearn.tree import DecisionTreeClassifier\n",
    "from sklearn.ensemble import RandomForestClassifier\n",
    "from sklearn.svm import SVC\n",
    "from sklearn.model_selection import cross_val_score"
   ]
  },
  {
   "cell_type": "code",
   "execution_count": 41,
   "id": "964e58e2-1eca-4210-9b34-3fbb658ce6cc",
   "metadata": {},
   "outputs": [],
   "source": [
    "# splitting the dataset into training and testing\n",
    "X_train, X_test, y_train, y_test = train_test_split(X, y, test_size=0.2, random_state=42)"
   ]
  },
  {
   "cell_type": "code",
   "execution_count": 42,
   "id": "105829ca-3655-4e45-a26e-6eca06bc3bf4",
   "metadata": {},
   "outputs": [
    {
     "name": "stdout",
     "output_type": "stream",
     "text": [
      "Logistic regression : 0.9953488372093023\n",
      "Decision tree : 0.9953488372093023\n",
      "Randomforest : 0.9953488372093023\n",
      "Svm : 0.9763012181616834\n"
     ]
    }
   ],
   "source": [
    "models = {\n",
    "    \"Logistic regression\" : LogisticRegression(),\n",
    "    \"Decision tree\": DecisionTreeClassifier(),\n",
    "    \"Randomforest\" : RandomForestClassifier(),\n",
    "    \"Svm\" : SVC()\n",
    "}\n",
    "\n",
    "for name, model in models.items():\n",
    "    print(name, \":\", np.mean(cross_val_score(model, X_test, y_test)))"
   ]
  },
  {
   "cell_type": "code",
   "execution_count": 43,
   "id": "f9b0e064-5cf8-4911-a80b-2937424b5cdb",
   "metadata": {},
   "outputs": [
    {
     "data": {
      "text/plain": [
       "np.float64(0.9953488372093023)"
      ]
     },
     "execution_count": 43,
     "metadata": {},
     "output_type": "execute_result"
    }
   ],
   "source": [
    "np.mean(cross_val_score(LogisticRegression(), X_test, y_test))"
   ]
  },
  {
   "cell_type": "code",
   "execution_count": 44,
   "id": "98b252c0-e715-49af-b752-35e768bb3e53",
   "metadata": {},
   "outputs": [],
   "source": [
    "logreg = LogisticRegression()\n",
    "logreg.fit(X_train, y_train)\n",
    "y_pred = logreg.predict(X_test)"
   ]
  },
  {
   "cell_type": "code",
   "execution_count": 45,
   "id": "3fbe53a5-7e30-4b21-8ade-c9003c92bd09",
   "metadata": {},
   "outputs": [
    {
     "data": {
      "text/plain": [
       "array([1, 0, 1, 0, 1, 1, 0, 1, 1, 0, 0, 1, 0, 1, 1, 0, 1, 1, 1, 0, 1, 1,\n",
       "       0, 1, 1, 1, 1, 1, 0, 1, 1, 1, 1, 0, 1, 0, 1, 1, 1, 1, 1, 1, 1, 1,\n",
       "       0, 1, 0, 1, 0, 1, 0, 1, 0, 1, 1, 0, 1, 0, 1, 0, 1, 1, 1, 0, 0, 1,\n",
       "       1, 0, 1, 1, 1, 0, 0, 0, 1, 1, 0, 1, 0, 0, 1, 0, 1, 1, 1, 0, 1, 1,\n",
       "       1, 1, 1, 1, 1, 1, 1, 0, 1, 0, 0, 1, 1, 1, 1, 1, 0, 0, 1, 0, 0, 1,\n",
       "       1, 1, 1, 0, 1, 1, 1, 1, 1, 1, 1, 1, 0, 1, 0, 1, 1, 1, 0, 1, 1, 0,\n",
       "       1, 1, 1, 1, 1, 1, 1, 1, 0, 1, 0, 1, 0, 1, 1, 1, 1, 1, 1, 0, 0, 1,\n",
       "       0, 0, 1, 1, 1, 0, 1, 1, 1, 1, 1, 1, 1, 0, 0, 1, 1, 0, 1, 1, 1, 1,\n",
       "       1, 1, 1, 0, 1, 1, 1, 1, 1, 0, 1, 1, 0, 1, 1, 1, 1, 1, 1, 1, 1, 0,\n",
       "       1, 1, 1, 1, 1, 0, 1, 0, 0, 0, 1, 1, 1, 1])"
      ]
     },
     "execution_count": 45,
     "metadata": {},
     "output_type": "execute_result"
    }
   ],
   "source": [
    "y_pred"
   ]
  },
  {
   "cell_type": "markdown",
   "id": "dfb67b95-1d2d-4b19-8c39-d9ff690bd268",
   "metadata": {},
   "source": [
    "#### MODEL EVALUATION\n",
    "Examine the accuracy of the model on the dataset"
   ]
  },
  {
   "cell_type": "code",
   "execution_count": 46,
   "id": "88daa53e-f16e-454a-88d8-082af18e6e6e",
   "metadata": {},
   "outputs": [],
   "source": [
    "from sklearn.metrics import confusion_matrix"
   ]
  },
  {
   "cell_type": "code",
   "execution_count": 47,
   "id": "24f54de0-f14d-4699-b2b0-e513f9098969",
   "metadata": {},
   "outputs": [
    {
     "data": {
      "text/html": [
       "<div>\n",
       "<style scoped>\n",
       "    .dataframe tbody tr th:only-of-type {\n",
       "        vertical-align: middle;\n",
       "    }\n",
       "\n",
       "    .dataframe tbody tr th {\n",
       "        vertical-align: top;\n",
       "    }\n",
       "\n",
       "    .dataframe thead th {\n",
       "        text-align: right;\n",
       "    }\n",
       "</style>\n",
       "<table border=\"1\" class=\"dataframe\">\n",
       "  <thead>\n",
       "    <tr style=\"text-align: right;\">\n",
       "      <th></th>\n",
       "      <th>Predicted: 0</th>\n",
       "      <th>Predicted: 1</th>\n",
       "    </tr>\n",
       "  </thead>\n",
       "  <tbody>\n",
       "    <tr>\n",
       "      <th>Actual: 0</th>\n",
       "      <td>62</td>\n",
       "      <td>0</td>\n",
       "    </tr>\n",
       "    <tr>\n",
       "      <th>Actual: 1</th>\n",
       "      <td>0</td>\n",
       "      <td>150</td>\n",
       "    </tr>\n",
       "  </tbody>\n",
       "</table>\n",
       "</div>"
      ],
      "text/plain": [
       "           Predicted: 0  Predicted: 1\n",
       "Actual: 0            62             0\n",
       "Actual: 1             0           150"
      ]
     },
     "execution_count": 47,
     "metadata": {},
     "output_type": "execute_result"
    }
   ],
   "source": [
    "cm = confusion_matrix(y_test, y_pred)\n",
    "conf_matrix = pd.DataFrame(cm, columns=['Predicted: 0', 'Predicted: 1'], index=['Actual: 0', 'Actual: 1'])\n",
    "conf_matrix"
   ]
  },
  {
   "cell_type": "code",
   "execution_count": 48,
   "id": "2fd04860-a442-4926-a413-7d2f1317d7c2",
   "metadata": {},
   "outputs": [
    {
     "data": {
      "image/png": "[encoded data removed]",
      "text/plain": [
       "<Figure size 640x480 with 2 Axes>"
      ]
     },
     "metadata": {},
     "output_type": "display_data"
    }
   ],
   "source": [
    "sns.heatmap(conf_matrix, annot=True, fmt='d')\n",
    "plt.show()"
   ]
  },
  {
   "cell_type": "markdown",
   "id": "f1f04d31-2967-4242-ae55-6654b1b0e871",
   "metadata": {},
   "source": [
    "#### Making a predictive system\n",
    "Giving the model an instance to make a prediction"
   ]
  },
  {
   "cell_type": "code",
   "execution_count": 49,
   "id": "8fc68a39-148a-4bd3-a77f-a6cb3b04c8db",
   "metadata": {},
   "outputs": [
    {
     "data": {
      "text/html": [
       "<div>\n",
       "<style scoped>\n",
       "    .dataframe tbody tr th:only-of-type {\n",
       "        vertical-align: middle;\n",
       "    }\n",
       "\n",
       "    .dataframe tbody tr th {\n",
       "        vertical-align: top;\n",
       "    }\n",
       "\n",
       "    .dataframe thead th {\n",
       "        text-align: right;\n",
       "    }\n",
       "</style>\n",
       "<table border=\"1\" class=\"dataframe\">\n",
       "  <thead>\n",
       "    <tr style=\"text-align: right;\">\n",
       "      <th></th>\n",
       "      <th>quiz_summary</th>\n",
       "      <th>assignment_summary</th>\n",
       "      <th>grade_point_average</th>\n",
       "      <th>age</th>\n",
       "      <th>children</th>\n",
       "      <th>completed_nysc</th>\n",
       "      <th>gender_Male</th>\n",
       "    </tr>\n",
       "  </thead>\n",
       "  <tbody>\n",
       "    <tr>\n",
       "      <th>972</th>\n",
       "      <td>99.0</td>\n",
       "      <td>36</td>\n",
       "      <td>67.5</td>\n",
       "      <td>27.0</td>\n",
       "      <td>False</td>\n",
       "      <td>True</td>\n",
       "      <td>True</td>\n",
       "    </tr>\n",
       "  </tbody>\n",
       "</table>\n",
       "</div>"
      ],
      "text/plain": [
       "     quiz_summary  assignment_summary  grade_point_average   age  children  \\\n",
       "972          99.0                  36                 67.5  27.0     False   \n",
       "\n",
       "     completed_nysc  gender_Male  \n",
       "972            True         True  "
      ]
     },
     "execution_count": 49,
     "metadata": {},
     "output_type": "execute_result"
    }
   ],
   "source": [
    "X_test.head(1)"
   ]
  },
  {
   "cell_type": "code",
   "execution_count": 50,
   "id": "d436076c-6095-4c25-96e8-1a6b224d5407",
   "metadata": {},
   "outputs": [
    {
     "name": "stdout",
     "output_type": "stream",
     "text": [
      "This student is not eligible\n"
     ]
    },
    {
     "name": "stderr",
     "output_type": "stream",
     "text": [
      "/opt/anaconda3/envs/cohort_7/lib/python3.9/site-packages/sklearn/utils/validation.py:2739: UserWarning: X does not have valid feature names, but LogisticRegression was fitted with feature names\n",
      "  warnings.warn(\n",
      "/opt/anaconda3/envs/cohort_7/lib/python3.9/site-packages/sklearn/utils/validation.py:2739: UserWarning: X does not have valid feature names, but LogisticRegression was fitted with feature names\n",
      "  warnings.warn(\n"
     ]
    }
   ],
   "source": [
    "#input data\n",
    "input_data = (45, 36, 29, 25, False, False, 1)\n",
    "\n",
    "#converted to array\n",
    "input_data_array = np.asarray(input_data)\n",
    "input_data_array.shape\n",
    "\n",
    "#reshape so the model can understand it\n",
    "input_data_reshape = input_data_array.reshape(1, -1)\n",
    "logreg.predict(input_data_reshape)\n",
    "\n",
    "# Getting a prediction \n",
    "prediction = logreg.predict(input_data_reshape)\n",
    "\n",
    "if prediction[0] == 0:\n",
    "    print(\"This student is not eligible\")\n",
    "else:\n",
    "    print(\"Passed\")"
   ]
  },
  {
   "cell_type": "markdown",
   "id": "e8f9e391-c461-458e-b848-352520c38139",
   "metadata": {},
   "source": [
    "#### Saving the trained model"
   ]
  },
  {
   "cell_type": "code",
   "execution_count": 52,
   "id": "8f8fde46-cada-4654-96b1-d97000e539d8",
   "metadata": {},
   "outputs": [],
   "source": [
    "import pickle"
   ]
  },
  {
   "cell_type": "code",
   "execution_count": 56,
   "id": "9182a98d-10a4-40cc-a6fd-6512b1ecaade",
   "metadata": {},
   "outputs": [],
   "source": [
    "filename = 'citrone_deployment_model.pkl'\n",
    "pickle.dump(logreg, open (filename, 'wb'))"
   ]
  },
  {
   "cell_type": "code",
   "execution_count": null,
   "id": "56af8c8e-0bdd-4b89-8cb4-3b772560c87f",
   "metadata": {},
   "outputs": [],
   "source": []
  }
 ],
 "metadata": {
  "kernelspec": {
   "display_name": "Python 3 (ipykernel)",
   "language": "python",
   "name": "python3"
  },
  "language_info": {
   "codemirror_mode": {
    "name": "ipython",
    "version": 3
   },
   "file_extension": ".py",
   "mimetype": "text/x-python",
   "name": "python",
   "nbconvert_exporter": "python",
   "pygments_lexer": "ipython3",
   "version": "3.9.21"
  }
 },
 "nbformat": 4,
 "nbformat_minor": 5
}
